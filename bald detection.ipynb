{
 "cells": [
  {
   "cell_type": "code",
   "execution_count": 1,
   "metadata": {},
   "outputs": [],
   "source": [
    "import numpy as np\n",
    "import cv2\n",
    "import tensorflow as tf\n",
    "from tensorflow.keras.layers import Dropout, Dense, Conv2D, MaxPool2D, Flatten, Input, BatchNormalization\n",
    "from tensorflow.keras.models import  Model\n",
    "from tensorflow.keras.regularizers import l2\n",
    "from tensorflow.keras.optimizers import Adam, RMSprop\n",
    "from tensorflow.keras.activations import relu, sigmoid\n"
   ]
  },
  {
   "cell_type": "markdown",
   "metadata": {},
   "source": [
    "Extract Import datasets for bald & not bald images"
   ]
  },
  {
   "cell_type": "code",
   "execution_count": null,
   "metadata": {},
   "outputs": [],
   "source": [
    "filedr = \"/Users/mepeeqeek/Python Projects/Bald Detect d Child\"\n",
    "filedr_bald = \"/Users/mepeeqeek/Python Projects/Bald Detect d Child/Dataset/Train/Bald\"\n",
    "filedr_ntbald = \"/Users/mepeeqeek/Python Projects/Bald Detect d Child/Dataset/Train/NotBald\""
   ]
  },
  {
   "cell_type": "code",
   "execution_count": null,
   "metadata": {},
   "outputs": [],
   "source": [
    "import os\n",
    "files_bald = os.listdir(filedr_bald)\n",
    "files_ntbald = os.listdir(filedr_ntbald)"
   ]
  },
  {
   "cell_type": "code",
   "execution_count": null,
   "metadata": {},
   "outputs": [],
   "source": [
    "images_bald = []\n",
    "balds = []\n",
    "\n",
    "for fle in files_bald:\n",
    "    total = filedr_bald+'/' + fle\n",
    "    image = cv2.imread(total)\n",
    "    print(total)\n",
    "    bald = int(0)\n",
    "    balds.append(bald)\n",
    "    image = cv2.cvtColor(image,cv2.COLOR_BGR2RGB)\n",
    "    images_bald.append(image)"
   ]
  },
  {
   "cell_type": "code",
   "execution_count": null,
   "metadata": {},
   "outputs": [],
   "source": [
    "images_ntbald = []\n",
    "baldnot = []\n",
    "for fle_nb in files_ntbald:\n",
    "    total_nb = filedr_ntbald+'/'+fle_nb\n",
    "    image_nb = cv2.imread(total_nb)\n",
    "    nt_bald = int(1)\n",
    "    print(total_nb)\n",
    "    baldnot.append(nt_bald)\n",
    "    image_nb = cv2.cvtColor(image_nb,cv2.COLOR_BGR2RGB)\n",
    "    images_ntbald.append(image_nb)"
   ]
  },
  {
   "cell_type": "code",
   "execution_count": null,
   "metadata": {},
   "outputs": [],
   "source": [
    "len(balds)"
   ]
  },
  {
   "cell_type": "code",
   "execution_count": null,
   "metadata": {},
   "outputs": [],
   "source": [
    "from matplotlib import pyplot as plt\n",
    "plt.imshow(images_bald[67])"
   ]
  },
  {
   "cell_type": "code",
   "execution_count": null,
   "metadata": {},
   "outputs": [],
   "source": [
    "print(balds[67])"
   ]
  },
  {
   "cell_type": "code",
   "execution_count": null,
   "metadata": {},
   "outputs": [],
   "source": [
    "plt.imshow(images_bald[777])\n",
    "print(balds[777])\n",
    "cv2.destroyAllWindows()"
   ]
  },
  {
   "cell_type": "code",
   "execution_count": null,
   "metadata": {},
   "outputs": [],
   "source": [
    "images_b_nt = []\n",
    "images_b_nt= images_bald + images_ntbald\n",
    "baldornot = []\n",
    "baldornot  = balds + baldnot"
   ]
  },
  {
   "cell_type": "code",
   "execution_count": null,
   "metadata": {},
   "outputs": [],
   "source": [
    "len(images_b_nt)"
   ]
  },
  {
   "cell_type": "code",
   "execution_count": null,
   "metadata": {},
   "outputs": [],
   "source": [
    "plt.imshow(images_b_nt[7778])\n",
    "print(baldornot[7778])"
   ]
  },
  {
   "cell_type": "code",
   "execution_count": null,
   "metadata": {},
   "outputs": [],
   "source": [
    "images_f = np.array(images_b_nt)\n",
    "baldornot_f = np.array(baldornot)"
   ]
  },
  {
   "cell_type": "code",
   "execution_count": null,
   "metadata": {},
   "outputs": [],
   "source": [
    "images_f.shape\n"
   ]
  },
  {
   "cell_type": "code",
   "execution_count": null,
   "metadata": {},
   "outputs": [],
   "source": [
    "len(baldornot)"
   ]
  },
  {
   "cell_type": "code",
   "execution_count": null,
   "metadata": {},
   "outputs": [],
   "source": [
    "values, counts = np.unique(baldornot_f,return_counts=True)\n",
    "print(counts)"
   ]
  },
  {
   "cell_type": "code",
   "execution_count": null,
   "metadata": {},
   "outputs": [],
   "source": [
    "#Plotting the size of Bald and non bald person in the dataset\n",
    "\n",
    "fig = plt.figure()\n",
    "axs = fig.add_axes([0,0,1,1])\n",
    "descript = ['Bald', 'Not Bald']\n",
    "axs.bar(descript,counts)\n",
    "plt.show()"
   ]
  },
  {
   "cell_type": "markdown",
   "metadata": {},
   "source": [
    "save the list in the folder location"
   ]
  },
  {
   "cell_type": "code",
   "execution_count": null,
   "metadata": {},
   "outputs": [],
   "source": [
    "np.save(filedr+'images.npy',images_f)\n",
    "np.save(filedr+'detection.npy',baldornot_f)"
   ]
  },
  {
   "cell_type": "markdown",
   "metadata": {},
   "source": [
    "splitting the dataset for test and train"
   ]
  },
  {
   "cell_type": "code",
   "execution_count": null,
   "metadata": {},
   "outputs": [],
   "source": [
    "images_f_2 = images_f/255"
   ]
  },
  {
   "cell_type": "code",
   "execution_count": null,
   "metadata": {},
   "outputs": [],
   "source": [
    "## importing necessary library for test train\n",
    "from sklearn.model_selection import train_test_split"
   ]
  },
  {
   "cell_type": "code",
   "execution_count": null,
   "metadata": {},
   "outputs": [],
   "source": [
    "X_test,X_train,Y_test,Y_train = train_test_split(images_f_2,baldornot_f,test_size=0.50)"
   ]
  },
  {
   "cell_type": "code",
   "execution_count": null,
   "metadata": {},
   "outputs": [],
   "source": [
    "Y_train[0:5]"
   ]
  },
  {
   "cell_type": "code",
   "execution_count": null,
   "metadata": {},
   "outputs": [],
   "source": [
    "X_train[0:5]"
   ]
  },
  {
   "cell_type": "code",
   "execution_count": null,
   "metadata": {},
   "outputs": [],
   "source": [
    "## how to define Convolution\n",
    "\n",
    "def Convolution(input_tensor,filters):\n",
    "    x= Conv2D(filters=filters,kernel_size=(3,3),padding=\"same\",strides=(1,1),kernel_regularizer=l2(0.001))(input_tensor)\n",
    "    x= Dropout(0.1)(x)  #dropout- for determining the parameters we drop to model ie model can work fine during the \"Training\" but not during the \"Test\"\n",
    "    x= Activation('relu')(x)  \n",
    "    return x"
   ]
  },
  {
   "cell_type": "code",
   "execution_count": null,
   "metadata": {},
   "outputs": [],
   "source": [
    "## Define the Model\n",
    "#As the convolution is increased the baising gets increased and if it is decreased then accuracy can decrease. Hence, we will use \"4- convolution layers\" and if needed we will increase it further\n",
    "\n",
    "def model(input_shape):\n",
    "    inputs = Input((input_shape))\n",
    "    conv_1 = Convolution(inputs,32)\n",
    "    maxp_1 = MaxPool2D(pool_size=(2,2))(conv_1)\n",
    "    conv_2 = Convolution(maxp_1,64)\n",
    "    maxp_2 = MaxPool2D(pool_size=(2,2))(conv_2)\n",
    "    conv_3 = Convolution(maxp_2,128)\n",
    "    maxp_3 = MaxPool2D(pool_size=(2,2))(conv_3)\n",
    "    conv_4 = Convolution(maxp_3,256)\n",
    "    maxp_4 = MaxPool2D(pool_size=(2,2))(conv_4)\n",
    "    conv_5 = Convolution(maxp_4,512)\n",
    "    maxp_5 = MaxPool2D(pool_size=(2,2))(conv_5)\n",
    "    flatten = Flatten()(maxp_5)\n",
    "    dense_1 = Dense(64,activation='relu')(flatten)\n",
    "    drop_1 = Dropout(0.2)(dense_1)\n",
    "    output_1 = Dense(1,activation='sigmoid',name='bald_out')(drop_1)  \n",
    "    model = tensorflow.keras.models.Model(inputs=[inputs],outputs=[output_1])\n",
    "    model.compile(loss=[\"binary_crossentropy\",\"mae\"],optimizer='rmsprop',metrics=[\"accuracy\"])\n",
    "    return model "
   ]
  },
  {
   "cell_type": "code",
   "execution_count": null,
   "metadata": {},
   "outputs": [],
   "source": [
    "Model= model((80,80,3))"
   ]
  },
  {
   "cell_type": "code",
   "execution_count": null,
   "metadata": {},
   "outputs": [],
   "source": [
    "Model.summary()"
   ]
  },
  {
   "cell_type": "code",
   "execution_count": null,
   "metadata": {},
   "outputs": [],
   "source": [
    "from tensorflow.keras.callbacks import ModelCheckpoint"
   ]
  },
  {
   "cell_type": "code",
   "execution_count": null,
   "metadata": {},
   "outputs": [],
   "source": [
    "file_s = 'Bald_Detection.h5'\n",
    "checkpoint = ModelCheckpoint(file_s,monitor='val_loss',verbose=1,save_best_only=True,save_weights_only=False,mode='auto',save_freq='epoch')\n",
    "Early_stop= tensorflow.keras.callbacks.EarlyStopping(patience=25,monitor='val_loss',restore_best_weights='True')\n",
    "callback_list = [checkpoint,Early_stop]"
   ]
  },
  {
   "cell_type": "code",
   "execution_count": null,
   "metadata": {},
   "outputs": [],
   "source": [
    "History = Model.fit(X_train,Y_train,batch_size=128,validation_data=(X_test,Y_test),epochs=25,callbacks=callback_list)"
   ]
  },
  {
   "cell_type": "markdown",
   "metadata": {},
   "source": [
    "Evaluation of  model"
   ]
  },
  {
   "cell_type": "code",
   "execution_count": null,
   "metadata": {},
   "outputs": [],
   "source": [
    "Model.evaluate(X_test,Y_test)"
   ]
  },
  {
   "cell_type": "markdown",
   "metadata": {},
   "source": [
    "Model prediction"
   ]
  },
  {
   "cell_type": "code",
   "execution_count": null,
   "metadata": {},
   "outputs": [],
   "source": [
    "pred = Model.predict(X_test)"
   ]
  },
  {
   "cell_type": "markdown",
   "metadata": {},
   "source": [
    "plotting Epoch vs Loss (using history file is difficult to plot everytime we open this file)"
   ]
  },
  {
   "cell_type": "code",
   "execution_count": null,
   "metadata": {},
   "outputs": [],
   "source": [
    "plt.plot(History.history['loss'])\n",
    "plt.plot(History.history['val_loss'])\n",
    "plt.title('Model Loss')\n",
    "plt.xlabel('Epoch')\n",
    "plt.ylabel('Loss')\n",
    "plt.legend(['Train','Validation'],loc='upper left')\n",
    "plt.subplots_adjust(top=1.0,bottom=0.0,right=0.95,left=0,hspace=0.25,wspace=0.35)"
   ]
  },
  {
   "cell_type": "code",
   "execution_count": null,
   "metadata": {},
   "outputs": [],
   "source": [
    "plt.plot(History.history['accuracy'])\n",
    "plt.plot(History.history['val_accuracy'])\n",
    "plt.title('Model Accuracy')\n",
    "plt.xlabel('Epoch')\n",
    "plt.ylabel('Accuracy')\n",
    "plt.legend(['Train','validation'],loc='upper left')\n",
    "plt.subplots_adjust(top=1.0,bottom=0.0,right=0.95,left=0,hspace=0.25,wspace=0.35)"
   ]
  },
  {
   "cell_type": "code",
   "execution_count": null,
   "metadata": {},
   "outputs": [],
   "source": [
    "i=0\n",
    "Pred_1=[]\n",
    "while(i<len(pred)):\n",
    "    Pred_1.append(int(np.round(pred[i])))\n",
    "    i=i+1"
   ]
  },
  {
   "cell_type": "code",
   "execution_count": null,
   "metadata": {},
   "outputs": [],
   "source": [
    "from sklearn.metrics import confusion_matrix\n",
    "from sklearn.metrics import classification_report"
   ]
  },
  {
   "cell_type": "code",
   "execution_count": null,
   "metadata": {},
   "outputs": [],
   "source": [
    "report = classification_report(Y_test,Pred_1)"
   ]
  },
  {
   "cell_type": "code",
   "execution_count": null,
   "metadata": {},
   "outputs": [],
   "source": [
    "print(report)"
   ]
  },
  {
   "cell_type": "code",
   "execution_count": null,
   "metadata": {},
   "outputs": [],
   "source": [
    "results = confusion_matrix(Y_test,Pred_1)"
   ]
  },
  {
   "cell_type": "code",
   "execution_count": null,
   "metadata": {},
   "outputs": [],
   "source": [
    "import seaborn as sns\n",
    "sns.heatmap(results,annot=True)"
   ]
  },
  {
   "cell_type": "code",
   "execution_count": null,
   "metadata": {},
   "outputs": [],
   "source": [
    "def test_image(ind,images_f,images_f_2,Model):\n",
    "    plt.imshow(images_f[ind])\n",
    "    image_test = images_f\n",
    "    print(image_test.shape)\n",
    "    pred_1 = Model.predict(np.array([image_test]))\n",
    "    bald_det_f = ['Not Bald','Bald']\n",
    "    bald_det = int(np.round(pred_1))\n",
    "    print(\"Predicted Person is  \"+bald_det_f[bald_det])"
   ]
  },
  {
   "cell_type": "code",
   "execution_count": null,
   "metadata": {},
   "outputs": [],
   "source": [
    "test_image(544,images_f,images_f_2,Model)"
   ]
  }
 ],
 "metadata": {
  "kernelspec": {
   "display_name": "Python 3",
   "language": "python",
   "name": "python3"
  },
  "language_info": {
   "codemirror_mode": {
    "name": "ipython",
    "version": 3
   },
   "file_extension": ".py",
   "mimetype": "text/x-python",
   "name": "python",
   "nbconvert_exporter": "python",
   "pygments_lexer": "ipython3",
   "version": "3.7.0"
  },
  "vscode": {
   "interpreter": {
    "hash": "226b331dcc51b83209df6f33db4149f3d190236f60112aba5f27df44a1507745"
   }
  }
 },
 "nbformat": 4,
 "nbformat_minor": 2
}
